{
 "cells": [
  {
   "cell_type": "markdown",
   "metadata": {},
   "source": [
    "# Machine Learning Engineer Nanodegree _CURRENTLY IN WORK_\n",
    "## Supervised Learning\n",
    "## Capstone Project: Predicting upcoming Blood Glucose levels for Diabetic using Supervised Learning "
   ]
  },
  {
   "cell_type": "markdown",
   "metadata": {},
   "source": [
    "The purpose of Supervised learning is a machine learning task that uses training data find a correlation for predicting new examples.  Using my Apple Watch and Dexcom Continuous Glucose Monitor (CGM), I am starting the initial framework for creating an artificial pancreas. "
   ]
  },
  {
   "cell_type": "markdown",
   "metadata": {},
   "source": [
    "## Introduction\n",
    "\n",
    "## I. Definition\n",
    "_(approx. 1-2 pages)_\n",
    "\n",
    "### Project Overview\n",
    "In this section, look to provide a high-level overview of the project in layman’s terms. Questions to ask yourself when writing this section:\n",
    "- _Has an overview of the project been provided, such as the problem domain, project origin, and related datasets or input data?_\n",
    "- _Has enough background information been given so that an uninformed reader would understand the problem domain and following problem statement?_\n",
    "\n",
    "The number of cases of Diabetes mellitus, Type 1 Diabetes (T1D) and Type 2 Diabetes (T2D), is continually increasing across the world.  A T1D is an individual that has lost some or all their insulin producing beta cells of their pancreatic islets.  These cells are also used to read blood glucose (BG) levels in the blood stream to inform the body if it needs to release insulin or glucagon based on the level.  Therefore, diabetics must monitor their BG by drawing blood from their finger and placing that blood on a test strip for a machine to calculate the BG level.  A second way is to use a CGM.  This is a catheter device that is inserted under the skin in the interstitial fluid and can read a diabetics BG every 5 minutes and output it to a device or your phone.  The finger sticks are still used to calibrate the CGM.  The CGM is a magnificent device that helps diabetes see patterns and trends in their data.  \n",
    "With this data (both forms), a diabetic must determine if their BG is high or low and correct their BG by decreasing the BG with insulin or increasing the BG with carbs.  A lot of diabetics control their insulin intake with an insulin pump.  An insulin pump is catheter device that mechanical supplies insulin to the user through a set of pre-programmed settings (basal) and instant programming settings (bolus).  This device is used to simulate the insulin production of the body that diabetics cannot accomplish anymore.  As it can be seen from my description above, life as a diabetic can feel like an eternal game of seesaw.\n",
    "\n",
    "I am a T1D and have been since 1988.  The medical field has done some amazing things to help me have a healthy life, but it is still extremely hard to maintain a healthy BG.  The American Diabetes Association (ADA) (REF) decided to put more funding into hardware and software that could help diabetics like myself.  This project is called the Artificial Pancreas (AP) project.  The goal is find a close loop system that can measure the BG with a CGM and output the correct amount of insulin from an insulin pump to keep BG levels within the normal range.    This AP project is currently being worked on by some amazing groups (TypeZero, Medtronic, BigFoot Biomedical, Beta Biomedical).  These companies are writing algorithms to have the CGM and insulin pumps communicate so the BG can be regulated continuous throughout the day.  In September of 2016 (landmark date), Medtronic as produced the first ever FDA approved AP.\n",
    "This work is amazing and very important to me.  As an engineer for over 10 years, I am always looking to make technology better.  Therefore, I am writing my own AP algorithm to better understand the system as well as possible find an algorithm that the other companies missed which can help diabetics in the future.\n",
    "\n",
    "As stated above, I am a T1D and the analysis below is designed around that only.  There are numerous studies on T2D, but it is outside the scope of this work.\n",
    "\n",
    "### Diabetes background\n",
    "As a diabetic, a typical day is like any other non-diabetic: we eat, sleep, and go about our daily routines.  The big difference is, if we eat a meal full of carbs and don’t counteract that meal with the correct insulin dosage, our BG level will increase or decrease.  Increased BG levels are called hyperglycemia, and decreased blood glucose levels are called hypoglycemia.  Both situations are unsafe for diabetics.\n",
    "\n",
    "For my analysis, hyperglycemia is considered a BG level above 140 mg/dl (milligrams of glucose per deciliter of blood) for an extended period, such as several hours.  Hypoglycemia is considered levels below 70 mg/dl.  BG level within these two limits are considered normal and ideal for a diabetic to maintain.  Diabetics BG levels will fall out of range after meals or during workouts, however, if the BG is return to normal, the damage caused by these states will be minimized.  It is worth going into what could result from prolonged periods in hypo or hyperglycemia.\n",
    "### Hyperglycemia\n",
    "Hyperglycemia is an abnormally high blood sugar.  As stated above, I am considered hyperglycemia BG levels above 140, but typically symptoms are only caused after over significantly elevated levels, such as over 200 mg/dl.  Signs of hyperglycemia vary per the individual, but typical symptoms are: frequent urination, increased thirst, headaches, fatigue, and blurred vision.  \n",
    "\n",
    "If the BG remains high, diabetic develop what is known as ketoacidosis, which is a build-up of ketones in the blood and urine.  When a diabetic is in ketoacidosis, the symptoms are: nausea and vomiting, frequent urination, weakness, dry mouth, and sometime diabetics can fall into a coma.  It is common to think that comas are only caused by hypoglycemia, but the reverse is true, just not as frequent.  \n",
    "\n",
    "It should be noted though hyperglycemia is undesirable, the effects take significant time for the above symptoms to take place.  Hypoglycemia caused unwanted states much quicker, therefore, treating hypoglycemia requires immediate attention.\n",
    "\n",
    "### Hypoglycemia\n",
    "Hypoglycemia is an abnormally low blood sugar. As discussed above, the symptoms that occur in a hypoglycemia state are almost instantaneous.  The body is looking for glucose to perform its normal operations and inadequate glucose is available.  The following are typical signs of hypoglycemia: heart palpitations, fatigue, pale skin, shakiness, irritability, sweating, anxiety, and hunger.  If the hypoglycemia worsens, the signs become: inability to complete routine tasks, blurred vision, seizures, loss of consciousness, and then possibly death."
   ]
  },
  {
   "cell_type": "markdown",
   "metadata": {},
   "source": [
    "### Problem Statement\n",
    "In this section, you will want to clearly define the problem that you are trying to solve, including the strategy (outline of tasks) you will use to achieve the desired solution. You should also thoroughly discuss what the intended solution will be for this problem. Questions to ask yourself when writing this section:\n",
    "- _Is the problem statement clearly defined? Will the reader understand what you are expecting to solve?_\n",
    "- _Have you thoroughly discussed how you will attempt to solve the problem?_\n",
    "- _Is an anticipated solution clearly defined? Will the reader understand what results you are looking for?_\n",
    "\n",
    "As seen in the section above, maintaining a normal range of BG level is of upmost importance to diabetic and sometimes could mean the difference between life and death.  Therefore, my program is set up to look at a few days of blood glucose levels, along with food and insulin intake, to predict future blood glucose levels to help diabetes or a machine make corrections without confidence.\n",
    "\n",
    "As a diabetic, the BG is dependent on 4 main features:\n",
    "* Basal Insulin (BI) – This is a programmed set amount of insulin that is used to counteract the glucose produced by the body to perform normal functions.\n",
    "* Basal Glucose (BL) – This is a continually changing feature of the body.  If the body needs to send glucose to a muscle to perform a simple act like breathing, the liver will produce the glucose necessary to do that.  However, insulin is needed as well, so if insulin is not available, the glucose could be sent to the lungs as well as numerous other places that do not need the glucose and hence, a higher count of BG in the blood stream.\n",
    "* Carbohydrates (C) – Food eaten with carbohydrates will spike the BG.\n",
    "* Bolus Insulin (B) – Insulin used as a one-time insert to counteract the intake of carbohydrates.\n",
    "\n",
    "With these features, the BG would be calculated as:\n",
    "〖BG〗_t1=BL-BI+C-B+〖BG〗_t0\t(1)\n",
    "\n",
    "In equation (1), BGt1 is the predicted blood glucose level to come based on BGt0 which is the current BG.\n",
    "\n",
    "However, there are a few other variables that need to be quantified in order of this equation to work.  These variables are completely dependent on the individual diabetic.  The variables are:\n",
    "* Carb Increase (CI) – This is the amount a single gram of carb will increase a diabetic blood sugar.  This value will vary based on the individual.  For reference, we should not compare the BG rise of a 200lb man and 400 lb woman if they both eat a similar candy bar.  Biologically, the digestion will be different as well as the carbohydrate absorption. \n",
    "* Insulin Sensitivity Factor (ISF) – This is scalar amount that equates to the amount a single unit of insulin will decrease the user’s BG. \n",
    "\n",
    "Therefore, I need to update Eq. (1) with the added variables:\n",
    "〖BG〗_t1=(BL+C)*CI-(BI+B)*ISF+〖BG〗_t0 \t(2)\n",
    "\n",
    "The goal of this project is to find a regression curve for the variable BL. In Equation (2) the only value that is not explicitly given from a device is BL.  With BL generalized from machine learning, I can optimize my ISF & CI variables to determine:\n",
    "* When is the best time to bolus for a meal with a known carbohydrate amount to maintain BG levels within the normal range?\n",
    "* What is the best amount to correct a BG level to return to the normal range?\n",
    "\n",
    "Another benefit for this analysis is to not eat or drink for a few hours and predict a diabetics BG.  If the BG from the machine learning BL match the BG from Dexcom, it means the machine learning is set up correctly and adjustments can be made to BI.  To know for sure if the machine learning algorithm is successful would be to have the diabetic user to fast for a day and see if BG go out of range.\n",
    "\n",
    "Therefore, with the objective in mind, I will rearrange Equation (2) to solve for BL:\n",
    "BL=((BI+B)*ISF-(C*CI)+∆BG)/CI \t(3)\n",
    "Where: ∆BG=〖BG〗_t1-〖BG〗_t0 \n",
    "\n",
    "I can then use this calculation back into the Equation (2) and receive the exact values produced by the CGM.  However, there is a caveat with this calculation that need to be mentioned.  This calculation will incorporate all noise in the system.  The Dexcom an amazing device and from an accuracy standpoint it has extremely high accuracy, but it is not perfect.  Therefore, let us discuss the Dexcom briefly so we can continue down this path.\n",
    "\n",
    "I am summarizing information provided on the company website [see ref 1].  The Dexcom G4/G5 measures it accuracy by MARD, mean absolute relative differences, for the patients referenced blood glucose measurements.   A lower MARD score represents a closer or better accuracy and Dexcom is the only CGM with a single-digit MARD of 9%.  This makes the Dexcom system very reliable for looking at trends in BG as well as making adjustments if needed (as of December 20th, 2016).  However, there is some noise in the system as seen with the MARD of 9%.  So, by back-calculating the basal sugars the body is producing by using the Dexcom, there is sure to be noise in that as well.  \n",
    "Current issues that will be invested further in the future with more datasets:\n",
    "\n",
    "As discussed above, the BL variable will have some inherent noise associated with it.  I do not think the current data set is large enough at this moment . The noise can be seen when the calculation is complete and the BL value is negative.  This is impossible and unreasonable.  So my plan to prevent these irregularities is to increase the dataset size. Because the data is my own bodies data, I will in the future make the data set larger.  This will allow me to average the value for a given time in the day.  This will hopefully make the values at a specific time more on a normal curve and I can pull the mean value which should be the most likely value.  \n",
    "\n",
    "The bodies use and production of carbs is dependent on the physical activities the body goes through each day, as well as the ISF.  Therefore, the dataset was taken during two days of not working out so the body is constant for the analysis.  Please note, activities are essential to the health and wellbeing of a diabetic and I will incorporate that into the analysis in the future, but at this moment, we will keep it simple. \n",
    "\n",
    "These above equations are the basis for the analysis.  The method for how I used these variable will be discussed below in greater details.\n",
    "\n",
    "\n",
    "\n",
    "\n",
    "## Question 1 - Classification vs. Regression\n",
    "*Your goal for this project is to identify students who might need early intervention before they fail to graduate. Which type of supervised learning problem is this, classification or regression? Why?*\n",
    "\n",
    "## REGRESSION"
   ]
  },
  {
   "cell_type": "markdown",
   "metadata": {},
   "source": [
    "## Exploring the Data\n",
    "Run the code cell below to load necessary Python libraries and load the student data. Note that the last column from this dataset, 'passed', will be our target label (whether the student graduated or didn't graduate). All other columns are features about each student."
   ]
  },
  {
   "cell_type": "code",
   "execution_count": 2,
   "metadata": {
    "collapsed": false
   },
   "outputs": [
    {
     "name": "stdout",
     "output_type": "stream",
     "text": [
      "Diabetes data read successfully!\n"
     ]
    }
   ],
   "source": [
    "# Import libraries\n",
    "import numpy as np\n",
    "import pandas as pd\n",
    "from time import time\n",
    "import matplotlib.pyplot as plt\n",
    "from sklearn.metrics import r2_score, mean_absolute_error, mean_squared_error\n",
    "\n",
    "\n",
    "# Pretty display for notebooks\n",
    "%matplotlib inline\n",
    "\n",
    "# Read diabetes data\n",
    "diabetes_data = pd.read_csv(\"DiabetesDataRPB.csv\")\n",
    "print \"Diabetes data read successfully!\""
   ]
  },
  {
   "cell_type": "markdown",
   "metadata": {},
   "source": [
    "## Implementation: Data Exploration\n",
    "Let's begin by investigating the dataset to determine how many students we have information on, and learn about the graduation rate among these students. In the code cell below, you will need to compute the following:\n",
    "+ The total number of data points or readings, n_readings.\n",
    "    + This is readings from each device and manipulated into a cohesive time slot\n",
    "+ The total number of features for each point in time, n_features.\n",
    "+ The number of readings when BG is in range, n_normal.\n",
    "+ The number of readings when BG is out of range (high or low), n_outOfRange.\n",
    "+ The time in range, In_Range in percent (%)."
   ]
  },
  {
   "cell_type": "code",
   "execution_count": 3,
   "metadata": {
    "collapsed": false
   },
   "outputs": [
    {
     "name": "stdout",
     "output_type": "stream",
     "text": [
      "Total number of readings: 864\n",
      "Number of features: 6\n"
     ]
    }
   ],
   "source": [
    "# Calculate number of students\n",
    "n_readings = len(diabetes_data[\"Basal Insulin\"])\n",
    "\n",
    "# Calculate number of features\n",
    "n_features = len(diabetes_data.keys())\n",
    "\n",
    "# Print the results\n",
    "print \"Total number of readings: {}\".format(n_readings)\n",
    "print \"Number of features: {}\".format(n_features)"
   ]
  },
  {
   "cell_type": "code",
   "execution_count": 4,
   "metadata": {
    "collapsed": false
   },
   "outputs": [
    {
     "name": "stdout",
     "output_type": "stream",
     "text": [
      "\n",
      "Feature values:\n",
      "   Time  Bolus Taken  Basal Insulin  Carbs Eaten   BG  Basal Carbs (Liver)\n",
      "0  0.07          0.0       3.749478          0.0  115             3.749478\n",
      "1  0.15          0.0       3.689807          0.0  109            -2.310193\n",
      "2  0.23          0.0       3.633855          0.0  106             0.633855\n",
      "3  0.32          0.0       3.581916          0.0  106             3.581916\n",
      "4  0.40          0.0       3.534167          0.0  106             3.534167\n"
     ]
    }
   ],
   "source": [
    "feature_cols = list(diabetes_data.columns[:])\n",
    "X_all = diabetes_data[feature_cols]\n",
    "print \"\\nFeature values:\"\n",
    "print X_all.head()"
   ]
  },
  {
   "cell_type": "markdown",
   "metadata": {},
   "source": [
    "## Features:\n",
    "\n",
    "The objective of this work is to find the average (or mean) basal glucose per day.  The data set is over 2 days so I will take the mean value of the basal glucose for a certain time period of the day.  As the data set gets larger, the results should become like a normal distribution and provided the most likely blood glucose for that time.\n",
    "\n",
    "Therefore, we currently have 576 data points, but I am transforming that to 288: $$24hr \\times 60 \\frac{min}{hr} \\times \\frac{1}{5} \\frac{readings}{min} = 288 readings$$"
   ]
  },
  {
   "cell_type": "code",
   "execution_count": 35,
   "metadata": {
    "collapsed": false
   },
   "outputs": [
    {
     "name": "stdout",
     "output_type": "stream",
     "text": [
      "     Time of Day  Basal Insulin  Liver Carbs\n",
      "0           0.07       3.749478     3.749478\n",
      "1           0.15       3.689807     3.086770\n",
      "2           0.23       3.633855     4.933419\n",
      "3           0.32       3.581916     3.779661\n",
      "4           0.40       3.534167    -0.371844\n",
      "5           0.48       3.490684    -1.509316\n",
      "6           0.57       3.451448     1.451448\n",
      "7           0.65       3.416362     0.416362\n",
      "8           0.73       3.385263     0.385263\n",
      "9           0.82       3.357937    -2.030034\n",
      "10          0.90       3.334130     0.078626\n",
      "11          0.98       3.313562     0.771979\n",
      "12          1.07       3.295941     2.295941\n",
      "13          1.15       3.280968     2.498739\n",
      "14          1.23       3.268348     2.619950\n",
      "15          1.32       3.257796     1.492294\n",
      "16          1.40       3.249044     0.815641\n",
      "17          1.48       3.241842     1.402166\n",
      "18          1.57       3.235962     2.235962\n",
      "19          1.65       3.231198     1.337630\n",
      "20          1.73       3.227369     1.313143\n",
      "21          1.82       3.224315     2.292952\n",
      "22          1.90       3.221897     1.106037\n",
      "23          1.98       3.219998     1.263013\n",
      "24          2.07       3.218517     3.218517\n",
      "25          2.15       3.217372     4.217372\n",
      "26          2.23       3.216492     2.169693\n",
      "27          2.32       3.215822     3.215822\n",
      "28          2.40       3.215314     3.215314\n",
      "29          2.48       3.214934     2.214934\n",
      "..           ...            ...          ...\n",
      "258        21.57       4.566466     2.636584\n",
      "259        21.65       4.571381     5.031953\n",
      "260        21.73       4.575462     3.915794\n",
      "261        21.82       4.578825     5.164113\n",
      "262        21.90       4.581576     7.052070\n",
      "263        21.98       4.583809     8.659214\n",
      "264        22.07       4.585609    13.681994\n",
      "265        22.15       4.587050     5.750805\n",
      "266        22.23       4.588194     4.842050\n",
      "267        22.32       4.589096     5.733631\n",
      "268        22.40       4.589802     8.516165\n",
      "269        22.48       4.590351     7.864421\n",
      "270        22.57       4.590775     7.389152\n",
      "271        22.65       4.591100     7.642099\n",
      "272        22.73       4.591346     6.097184\n",
      "273        22.82       4.581954     5.808437\n",
      "274        22.90       4.563182     3.088607\n",
      "275        22.98       4.535426     0.486453\n",
      "276        23.07       4.499261     3.157822\n",
      "277        23.15       4.455415     5.780340\n",
      "278        23.23       4.404752     3.996104\n",
      "279        23.32       4.348216     1.179144\n",
      "280        23.40       4.286882     0.326648\n",
      "281        23.48       4.221837     3.508189\n",
      "282        23.57       4.154178     3.943798\n",
      "283        23.65       4.084987     4.295839\n",
      "284        23.73       4.015300     3.574167\n",
      "285        23.82       3.946082     0.618467\n",
      "286        23.90       3.878211    -0.047230\n",
      "287        23.98       3.812458     2.073003\n",
      "\n",
      "[288 rows x 3 columns]\n"
     ]
    }
   ],
   "source": [
    "#dayBasal = diabetes_data[[\"Time\", \"Basal Carbs (Liver)\"]].mean(axis=1)\n",
    "\n",
    "dayBasal =  diabetes_data['Basal Carbs (Liver)'].groupby(diabetes_data['Time']).median()\n",
    "avgBG    =  diabetes_data['BG'].groupby(diabetes_data['Time']).mean()\n",
    "\n",
    "df1 = list(dayBasal)\n",
    "df2 = list(diabetes_data[\"Time\"][:288])\n",
    "df3 = list(diabetes_data[\"Basal Insulin\"][:288])\n",
    "df4 = list(avgBG)\n",
    "\n",
    "\n",
    "columnTitle = ['Time of Day','Basal Insulin','Liver Carbs']\n",
    "DF = {'Time of Day':df2,'Basal Insulin': df3,'Liver Carbs':df1}\n",
    "newDF = pd.DataFrame(DF, columns=columnTitle)\n",
    "\n",
    "day_readings = len(newDF)\n",
    "print newDF"
   ]
  },
  {
   "cell_type": "markdown",
   "metadata": {},
   "source": [
    "### Metrics\n",
    "In this section, you will need to clearly define the metrics or calculations you will use to measure performance of a model or result in your project. These calculations and metrics should be justified based on the characteristics of the problem and problem domain. Questions to ask yourself when writing this section:\n",
    "- _Are the metrics you’ve chosen to measure the performance of your models clearly discussed and defined?_\n",
    "- _Have you provided reasonable justification for the metrics chosen based on the problem and solution?_\n"
   ]
  },
  {
   "cell_type": "markdown",
   "metadata": {},
   "source": [
    "## II. Analysis\n",
    "_(approx. 2-4 pages)_\n"
   ]
  },
  {
   "cell_type": "markdown",
   "metadata": {},
   "source": [
    "## Prepare Data\n",
    "In this section, I will prepare the data for modeling, training, and testing."
   ]
  },
  {
   "cell_type": "markdown",
   "metadata": {},
   "source": [
    "## Identify feature and target columns\n",
    "\n",
    "** *It is often the case that the data you obtain contains non-numeric features. This can be a problem, as most machine learning algorithms expect numeric data to perform computations with.* **\n",
    "\n",
    "Run the code cell below to separate the student data into feature and target columns to see if any features are non-numeric."
   ]
  },
  {
   "cell_type": "code",
   "execution_count": 36,
   "metadata": {
    "collapsed": false
   },
   "outputs": [
    {
     "name": "stdout",
     "output_type": "stream",
     "text": [
      "Feature columns:\n",
      "Index([u'Time of Day', u'Basal Insulin'], dtype='object')\n",
      "\n",
      "Target column: Liver Carbs\n",
      "\n",
      "Feature values:\n",
      "   Time of Day  Basal Insulin\n",
      "0         0.07       3.749478\n",
      "1         0.15       3.689807\n",
      "2         0.23       3.633855\n",
      "3         0.32       3.581916\n",
      "4         0.40       3.534167\n"
     ]
    }
   ],
   "source": [
    "# Extract feature columns\n",
    "feature_cols = newDF.columns[:-1]\n",
    "\n",
    "# Extract target column 'Basal Carbs (Liver)'\n",
    "target_col = newDF.columns[-1] \n",
    "\n",
    "# Show the list of columns\n",
    "print \"Feature columns:\\n{}\".format(feature_cols)\n",
    "print \"\\nTarget column: {}\".format(target_col)\n",
    "\n",
    "# Separate the data into feature data and target data (X_all and y_all, respectively)\n",
    "X_all  = newDF[feature_cols]\n",
    "y_all  = newDF[target_col]\n",
    "\n",
    "# Show the feature information by printing the first five rows\n",
    "print \"\\nFeature values:\"\n",
    "print X_all.head()\n",
    "\n"
   ]
  },
  {
   "cell_type": "markdown",
   "metadata": {},
   "source": [
    "## Implementation: Training and Testing Data Split\n",
    "\n",
    "** So far, we have converted all categorical features into numeric values. ** For the next step, we split the data (both features and corresponding labels) into training and test sets. In the following code cell below, you will need to implement the following:\n",
    "+ Randomly shuffle and split the data (X_all, y_all) into training and testing subsets.\n",
    "    + Use 525 training points (roughly 75%) and 173 testing points.\n",
    "    + Set a random_state for the function(s) you use, if provided.\n",
    "    + Store the results in X_train, X_test, y_train, and y_test."
   ]
  },
  {
   "cell_type": "code",
   "execution_count": 37,
   "metadata": {
    "collapsed": false
   },
   "outputs": [
    {
     "name": "stdout",
     "output_type": "stream",
     "text": [
      "Training set has 216 samples.\n",
      "Testing set has 72 samples.\n"
     ]
    }
   ],
   "source": [
    "# Import any additional functionality you may need here\n",
    "from sklearn.model_selection import TimeSeriesSplit\n",
    "from sklearn import cross_validation\n",
    "\n",
    "# Set the number of training points\n",
    "num_train = int(day_readings*0.75)\n",
    "\n",
    "# Set the number of testing points\n",
    "num_test = X_all.shape[0] - num_train\n",
    "\n",
    "# TODO: Shuffle and split the dataset into the number of training and testing points above\n",
    "X_train, X_test, y_train, y_test = cross_validation.train_test_split(X_all, y_all, test_size=num_test, random_state=1)\n",
    "\n",
    "# Show the results of the split\n",
    "print \"Training set has {} samples.\".format(X_train.shape[0])\n",
    "print \"Testing set has {} samples.\".format(X_test.shape[0])"
   ]
  },
  {
   "cell_type": "markdown",
   "metadata": {},
   "source": [
    "## Training and Evaluating Models\n",
    "In this section, you will choose 3 supervised learning models that are appropriate for this problem and available in scikit-learn. You will first discuss the reasoning behind choosing these three models by considering what you know about the data and each model's strengths and weaknesses. You will then fit the model to varying sizes of training data (100 data points, 200 data points, and 300 data points) and measure the F1 score. You will need to produce three tables (one for each model) that shows the training set size, training time, prediction time, F1 score on the training set, and F1 score on the testing set.\n",
    "\n",
    "**The following supervised learning models are currently available in scikit-learn that you may choose from:**\n",
    "+ Gaussian Process\n",
    "+ Decision Trees - With AdaBoost\n",
    "+ Ensemble Methods (Bagging, AdaBoost, Random Forest, Gradient Boosting)\n",
    "+ Support Vector Machines (SVM)"
   ]
  },
  {
   "cell_type": "markdown",
   "metadata": {},
   "source": [
    "## Question 2 - Model Application\n",
    "*List three supervised learning models that are appropriate for this problem. For each model chosen*\n",
    "+ Describe one real-world application in industry where the model can be applied. (You may need to do a small bit of research for this — give references!)\n",
    "+ What are the strengths of the model; when does it perform well?\n",
    "+ What are the weaknesses of the model; when does it perform poorly?\n",
    "+ What makes this model a good candidate for the problem, given what you know about the data?"
   ]
  },
  {
   "cell_type": "markdown",
   "metadata": {},
   "source": [
    "### These need to be answered as regression\n",
    "\n",
    "# NEEDS WORK\n",
    "\n",
    "1) K-Nearest Neighbors\n",
    "\n",
    "2) Decision Tree Regression with AdaBoost\n",
    "\n",
    "3) SVR\n"
   ]
  },
  {
   "cell_type": "code",
   "execution_count": 38,
   "metadata": {
    "collapsed": false
   },
   "outputs": [],
   "source": [
    "def train_regressor(regr, X_train, y_train):\n",
    "    ''' Fits a regressor to the training data. '''\n",
    "    \n",
    "    # Start the clock, train the regressor, then stop the clock\n",
    "    start = time()\n",
    "    regr.fit(X_train, y_train)\n",
    "    end = time()\n",
    "    \n",
    "    # Print the results\n",
    "    print \"Trained model in {:.4f} seconds\".format(end - start)\n",
    "\n",
    "    \n",
    "def predict_BG(regr, X_all, y_all):\n",
    "    ''' Makes predictions using a fit classifier based on R2 score. '''\n",
    "    \n",
    "    # Start the clock, make predictions, then stop the clock\n",
    "    start = time()\n",
    "    y_pred = regr.predict(X_all)\n",
    "    end = time()\n",
    "    \n",
    "    # Print and return results\n",
    "    print \"Made predictions in {:.4f} seconds.\".format(end - start)\n",
    "    return r2_score(y_all, y_pred), mean_absolute_error(y_all, y_pred), mean_squared_error(y_all, y_pred)\n",
    "\n",
    "def train_predict(regr, X_train, y_train, X_test, y_test):\n",
    "    ''' Train and predict using a classifer based on F1 score. '''\n",
    "    \n",
    "    # Indicate the regressor and the training set size\n",
    "    print \"Training a {} using a training set size of {}. . .\".format(regr.__class__.__name__, len(X_train))\n",
    "    \n",
    "    # Train the regressor\n",
    "    train_regressor(regr, X_train, y_train)\n",
    "    \n",
    "    r2s_train, mae_train, mse_train = predict_BG(regr, X_train, y_train)\n",
    "    r2s_test, mae_test, mse_test = predict_BG(regr, X_test, y_test)\n",
    "    \n",
    "    # Print the results of prediction for both training and testing\n",
    "    print \"R2 score for training set: {:.4f}.\".format(r2s_train)\n",
    "    print \"R2 score for test set: {:.4f}.\".format(r2s_test)\n",
    "    print \"Mean Squared Error score for training set: {:.4f}.\".format(mse_train)\n",
    "    print \"Mean Squared Error for test set: {:.4f}.\".format(mse_test)\n",
    "    print \"Mean Absolute Error score for training set: {:.4f}.\".format(mae_train)\n",
    "    print \"Mean Absolute Error for test set: {:.4f}.\".format(mae_test)\n",
    "    "
   ]
  },
  {
   "cell_type": "markdown",
   "metadata": {},
   "source": [
    "## Implementation: Model Performance Metrics\n",
    "With the predefined functions above, you will now import the three supervised learning models of your choice and run the train_predict function for each one. Remember that you will need to train and predict on each classifier for three different training set sizes: 100, 200, and 300. Hence, you should expect to have 9 different outputs below — 3 for each model using the varying training set sizes. In the following code cell, you will need to implement the following:\n",
    "\n",
    "+ Import the three supervised learning models you've discussed in the previous section.\n",
    "+ Initialize the three models and store them in clf_A, clf_B, and clf_C.\n",
    "    + Use a random_state for each model you use, if provided.\n",
    "    + Note: Use the default settings for each model — you will tune one specific model in a later section.\n",
    "+ Create the different training set sizes to be used to train each model.\n",
    "    + Do not reshuffle and resplit the data! The new training points should be drawn from X_train and y_train.\n",
    "+ Fit each model with each training set size and make predictions on the test set (9 in total).\n",
    "\n",
    "**Note**: Three tables are provided after the following code cell which can be used to store your results."
   ]
  },
  {
   "cell_type": "code",
   "execution_count": 42,
   "metadata": {
    "collapsed": false,
    "scrolled": false
   },
   "outputs": [
    {
     "name": "stdout",
     "output_type": "stream",
     "text": [
      "Training a AdaBoostRegressor using a training set size of 100. . .\n",
      "Trained model in 0.1870 seconds\n",
      "Made predictions in 0.0010 seconds.\n",
      "Made predictions in 0.0010 seconds.\n",
      "R2 score for training set: 0.4496.\n",
      "R2 score for test set: 0.2252.\n",
      "Mean Squared Error score for training set: 5.2271.\n",
      "Mean Squared Error for test set: 8.9171.\n",
      "Mean Absolute Error score for training set: 1.8124.\n",
      "Mean Absolute Error for test set: 2.2332.\n",
      "-------------------------------------------------------\n",
      "Training a AdaBoostRegressor using a training set size of 200. . .\n",
      "Trained model in 0.0200 seconds\n",
      "Made predictions in 0.0000 seconds.\n",
      "Made predictions in 0.0010 seconds.\n",
      "R2 score for training set: 0.3191.\n",
      "R2 score for test set: 0.2022.\n",
      "Mean Squared Error score for training set: 5.8390.\n",
      "Mean Squared Error for test set: 9.1819.\n",
      "Mean Absolute Error score for training set: 1.8609.\n",
      "Mean Absolute Error for test set: 2.1583.\n",
      "-------------------------------------------------------\n",
      "Training a AdaBoostRegressor using a training set size of 216. . .\n",
      "Trained model in 0.0910 seconds\n",
      "Made predictions in 0.0020 seconds.\n",
      "Made predictions in 0.0010 seconds.\n",
      "R2 score for training set: 0.3717.\n",
      "R2 score for test set: 0.3338.\n",
      "Mean Squared Error score for training set: 5.4768.\n",
      "Mean Squared Error for test set: 7.6676.\n",
      "Mean Absolute Error score for training set: 1.8513.\n",
      "Mean Absolute Error for test set: 1.9984.\n",
      "-------------------------------------------------------\n",
      "-------------------------------------------------------\n",
      "Training a SVR using a training set size of 100. . .\n",
      "Trained model in 0.0020 seconds\n",
      "Made predictions in 0.0000 seconds.\n",
      "Made predictions in 0.0010 seconds.\n",
      "R2 score for training set: 0.4563.\n",
      "R2 score for test set: 0.3195.\n",
      "Mean Squared Error score for training set: 5.1628.\n",
      "Mean Squared Error for test set: 7.8317.\n",
      "Mean Absolute Error score for training set: 1.6446.\n",
      "Mean Absolute Error for test set: 2.0695.\n",
      "-------------------------------------------------------\n",
      "Training a SVR using a training set size of 200. . .\n",
      "Trained model in 0.0040 seconds\n",
      "Made predictions in 0.0010 seconds.\n",
      "Made predictions in 0.0010 seconds.\n",
      "R2 score for training set: 0.4040.\n",
      "R2 score for test set: 0.3124.\n",
      "Mean Squared Error score for training set: 5.1116.\n",
      "Mean Squared Error for test set: 7.9139.\n",
      "Mean Absolute Error score for training set: 1.6597.\n",
      "Mean Absolute Error for test set: 2.0426.\n",
      "-------------------------------------------------------\n",
      "Training a SVR using a training set size of 216. . .\n",
      "Trained model in 0.0050 seconds\n",
      "Made predictions in 0.0010 seconds.\n",
      "Made predictions in 0.0010 seconds.\n",
      "R2 score for training set: 0.4256.\n",
      "R2 score for test set: 0.3097.\n",
      "Mean Squared Error score for training set: 5.0065.\n",
      "Mean Squared Error for test set: 7.9445.\n",
      "Mean Absolute Error score for training set: 1.6616.\n",
      "Mean Absolute Error for test set: 2.0460.\n",
      "-------------------------------------------------------\n",
      "-------------------------------------------------------\n",
      "Training a GaussianProcessRegressor using a training set size of 100. . .\n",
      "Trained model in 0.1300 seconds\n",
      "Made predictions in 0.0010 seconds.\n",
      "Made predictions in 0.0020 seconds.\n",
      "R2 score for training set: 0.1193.\n",
      "R2 score for test set: 0.1706.\n",
      "Mean Squared Error score for training set: 8.3630.\n",
      "Mean Squared Error for test set: 9.5462.\n",
      "Mean Absolute Error score for training set: 2.2045.\n",
      "Mean Absolute Error for test set: 2.1703.\n",
      "-------------------------------------------------------\n",
      "Training a GaussianProcessRegressor using a training set size of 200. . .\n",
      "Trained model in 0.1860 seconds\n",
      "Made predictions in 0.0010 seconds.\n",
      "Made predictions in 0.0000 seconds.\n",
      "R2 score for training set: 0.4206.\n",
      "R2 score for test set: 0.3352.\n",
      "Mean Squared Error score for training set: 4.9691.\n",
      "Mean Squared Error for test set: 7.6513.\n",
      "Mean Absolute Error score for training set: 1.7151.\n",
      "Mean Absolute Error for test set: 1.9614.\n",
      "-------------------------------------------------------\n",
      "Training a GaussianProcessRegressor using a training set size of 216. . .\n",
      "Trained model in 0.2180 seconds\n",
      "Made predictions in 0.0020 seconds.\n",
      "Made predictions in 0.0010 seconds.\n",
      "R2 score for training set: 0.4397.\n",
      "R2 score for test set: 0.3338.\n",
      "Mean Squared Error score for training set: 4.8837.\n",
      "Mean Squared Error for test set: 7.6678.\n",
      "Mean Absolute Error score for training set: 1.7043.\n",
      "Mean Absolute Error for test set: 1.9552.\n",
      "-------------------------------------------------------\n"
     ]
    }
   ],
   "source": [
    "# Import the three supervised learning models from sklearn\n",
    "# from sklearn import model_B\n",
    "from sklearn.tree import DecisionTreeRegressor\n",
    "from sklearn.ensemble import AdaBoostRegressor\n",
    "# from skearln import model_C\n",
    "from sklearn import svm\n",
    "# from skearln import model_D\n",
    "from sklearn.gaussian_process import GaussianProcessRegressor\n",
    "from sklearn.gaussian_process.kernels import RBF, WhiteKernel\n",
    "\n",
    "# Initialize the three models\n",
    "clf_B = AdaBoostRegressor(DecisionTreeRegressor(max_depth=2),n_estimators=300, random_state=0)\n",
    "clf_C = svm.SVR(kernel='rbf', C=1e1, gamma=0.2)\n",
    "\n",
    "kernel = 1.0 * RBF(length_scale=150.0, length_scale_bounds=(1e-2, 1e3)) + WhiteKernel(noise_level=1, noise_level_bounds=(1e-10, 1e+1))\n",
    "clf_D = GaussianProcessRegressor(kernel=kernel, alpha=0.0)\n",
    "\n",
    "# Set up the training set sizes\n",
    "X_train_100 = X_train[:100]\n",
    "y_train_100 = y_train[:100]\n",
    "\n",
    "X_train_200 = X_train[:200]\n",
    "y_train_200 = y_train[:200]\n",
    "\n",
    "X_train_250 = X_train[:250]\n",
    "y_train_250 = y_train[:250]\n",
    "\n",
    "# Execute the 'train_predict' function for each classifier and each training set size\n",
    "# train_predict(clf, X_train, y_train, X_test, y_test)\n",
    "for size in [100, 200, 250]:\n",
    "    train_predict(clf_B, X_train[:size], y_train[:size], X_test, y_test)\n",
    "    print \"-------------------------------------------------------\"\n",
    "\n",
    "print \"-------------------------------------------------------\"\n",
    "for size in [100, 200, 250]:\n",
    "    train_predict(clf_C, X_train[:size], y_train[:size], X_test, y_test)\n",
    "    print \"-------------------------------------------------------\"\n",
    "    \n",
    "print \"-------------------------------------------------------\"\n",
    "for size in [100, 200, 250]:\n",
    "    train_predict(clf_D, X_train[:size], y_train[:size], X_test, y_test)\n",
    "    print \"-------------------------------------------------------\""
   ]
  },
  {
   "cell_type": "markdown",
   "metadata": {},
   "source": [
    "## Tabular Results\n",
    "\n",
    "** Regressor 1 - KNeighborsRegressor**  \n",
    "\n",
    "| Training Set Size | Training Time | Prediction Time (test) | R2 Score (train) | R2 Score (test) | Mean Squared Error Score (test) | Mean Absolute Error Score (test) |\n",
    "| :---------------: | :---------------------: | :--------------------: | :--------------: | :-------------: | :-------------: | :-------------: |\n",
    "| 100               |        0.0000           |        0.0000          |      1.0000      |    0.6480       |    3.3212       |    1.4795       |\n",
    "| 200               |        0.0000           |        0.0010          |      1.0000      |    0.7309       |    2.5392       |    1.3255       |\n",
    "| 250               |        0.0000           |        0.0010          |      1.0000      |    0.7398       |    2.4548       |    1.2570       |\n",
    "\n",
    "** Regressor 2 - AdaBoostRegressor**  \n",
    "\n",
    "| Training Set Size | Training Time | Prediction Time (test) | R2 Score (train) | R2 Score (test) | Mean Squared Error Score (test) | Mean Absolute Error Score (test) |\n",
    "| :---------------: | :---------------------: | :--------------------: | :--------------: | :-------------: | :-------------: | :-------------: |\n",
    "| 100               |        0.4800           |        0.0100          |      0.8250      |    0.6219       |    3.5674       |    1.5267       |\n",
    "| 200               |        0.0340           |        0.0100          |      0.7255      |    0.6914       |    2.9118       |    1.3094       |\n",
    "| 250               |        0.0310           |        0.0010          |      0.7348      |    0.6866       |    2.5013       |    1.3613       |\n",
    " \n",
    "** Regressor 3 - SVR**  \n",
    "\n",
    "| Training Set Size | Training Time | Prediction Time (test) | R2 Score (train) | R2 Score (test) | Mean Squared Error Score (test) | Mean Absolute Error Score (test) |\n",
    "| :---------------: | :---------------------: | :--------------------: | :--------------: | :-------------: | :-------------: | :-------------: |\n",
    "| 100               |        0.0010           |        0.0010          |      0.4154      |    0.3981       |    5.6798       |    1.7580       |\n",
    "| 200               |        0.0030           |        0.0010          |      0.4189      |    0.4630       |    5.0663       |    1.6456       |\n",
    "| 250               |        0.0030           |        0.0010          |      0.4528      |    0.4899       |    4.8130       |    1.6148       |\n",
    " \n",
    "** Regressor 4 - Gaussian Process**  \n",
    "\n",
    "| Training Set Size | Training Time | Prediction Time (test) | R2 Score (train) | R2 Score (test) | Mean Squared Error Score (test) | Mean Absolute Error Score (test) |\n",
    "| :---------------: | :---------------------: | :--------------------: | :--------------: | :-------------: | :-------------: | :-------------: |\n",
    "| 100               |        1.9590           |        0.0000          |      0.7714      |    0.4098       |    5.5689       |    1.7669       |\n",
    "| 200               |        4.8530           |        0.0020          |      0.7077      |    0.3087       |    6.5226       |    2.0665       |\n",
    "| 250               |        5.4270           |        0.0010          |     -0.1181      |   -0.5934       |   15.0347       |    3.0969       |\n"
   ]
  },
  {
   "cell_type": "markdown",
   "metadata": {},
   "source": [
    "## Visualization of Data to Best Regressor:\n",
    "\n",
    "Looking to see how the Regressor looks like when sitting on the data."
   ]
  },
  {
   "cell_type": "code",
   "execution_count": 50,
   "metadata": {
    "collapsed": false,
    "scrolled": false
   },
   "outputs": [
    {
     "data": {
      "text/plain": [
       "<matplotlib.figure.Figure at 0xf33d550>"
      ]
     },
     "metadata": {},
     "output_type": "display_data"
    },
    {
     "data": {
      "image/png": "[encoded data removed]",
      "text/plain": [
       "<matplotlib.figure.Figure at 0xf0f4898>"
      ]
     },
     "metadata": {},
     "output_type": "display_data"
    },
    {
     "data": {
      "text/plain": [
       "<matplotlib.figure.Figure at 0xf4d2b70>"
      ]
     },
     "metadata": {},
     "output_type": "display_data"
    },
    {
     "data": {
      "image/png": "[encoded data removed]",
      "text/plain": [
       "<matplotlib.figure.Figure at 0x118a1e10>"
      ]
     },
     "metadata": {},
     "output_type": "display_data"
    },
    {
     "data": {
      "text/plain": [
       "<matplotlib.figure.Figure at 0x11895588>"
      ]
     },
     "metadata": {},
     "output_type": "display_data"
    },
    {
     "data": {
      "image/png": "[encoded data removed]",
      "text/plain": [
       "<matplotlib.figure.Figure at 0x11ab65f8>"
      ]
     },
     "metadata": {},
     "output_type": "display_data"
    },
    {
     "data": {
      "text/plain": [
       "<matplotlib.figure.Figure at 0x119c7da0>"
      ]
     },
     "metadata": {},
     "output_type": "display_data"
    },
    {
     "data": {
      "image/png": "[encoded data removed]",
      "text/plain": [
       "<matplotlib.figure.Figure at 0x11b49ba8>"
      ]
     },
     "metadata": {},
     "output_type": "display_data"
    }
   ],
   "source": [
    "import sklearn.learning_curve as curves\n",
    "y_pred2 = clf_B.predict(X_all)\n",
    "y_pred3 = clf_C.predict(X_all)\n",
    "y_pred4 = clf_D.predict(X_all)\n",
    "\n",
    "# Visualize data and regression curves\n",
    "plt.figure()\n",
    "plt.figure(figsize=(15,12))\n",
    "x_scat = range(day_readings)\n",
    "\n",
    "plt.scatter(x_scat, newDF[\"Liver Carbs\"], c='k', label='data', zorder=1)\n",
    "plt.plot(x_scat, y_pred2, c='b', label='ABR', zorder=2)\n",
    "\n",
    "plt.xlabel('Index')\n",
    "plt.ylabel('Basal Levels')\n",
    "plt.title('Regressors vs Data Points')\n",
    "plt.ylim([-40,40])\n",
    "plt.grid(True)\n",
    "plt.legend()\n",
    "\n",
    "# Visualize data and regression curves\n",
    "plt.figure()\n",
    "plt.figure(figsize=(15,12))\n",
    "x_scat = range(day_readings)\n",
    "\n",
    "plt.scatter(x_scat, newDF[\"Liver Carbs\"], c='k', label='data', zorder=1)\n",
    "plt.plot(x_scat, y_pred3, c='r', label='SVR support vectors',zorder=2)\n",
    "\n",
    "plt.xlabel('Index')\n",
    "plt.ylabel('Basal Levels')\n",
    "plt.title('Regressors vs Data Points')\n",
    "plt.ylim([-40,40])\n",
    "plt.grid(True)\n",
    "plt.legend()\n",
    "\n",
    "# Visualize data and regression curves\n",
    "plt.figure()\n",
    "plt.figure(figsize=(15,12))\n",
    "x_scat = range(day_readings)\n",
    "\n",
    "plt.scatter(x_scat, newDF[\"Liver Carbs\"], c='k', label='data', zorder=1)\n",
    "plt.plot(x_scat, y_pred4, c='c', label='GP',zorder=2)\n",
    "\n",
    "plt.xlabel('Index')\n",
    "plt.ylabel('Basal Levels')\n",
    "plt.title('Regressors vs Data Points')\n",
    "plt.ylim([-40,40])\n",
    "plt.grid(True)\n",
    "plt.legend()\n",
    "\n",
    "# Visualize data and regression curves\n",
    "plt.figure()\n",
    "plt.figure(figsize=(15,12))\n",
    "x_scat = range(day_readings)\n",
    "\n",
    "#plt.scatter(x_scat, newDF[\"Liver Carbs\"], c='k', label='data', zorder=1)\n",
    "plt.plot(x_scat, y_pred2, c='b', label='ABR', zorder=2)\n",
    "plt.plot(x_scat, y_pred3, c='r', label='SVR support vectors',zorder=2)\n",
    "plt.plot(x_scat, y_pred4, c='c', label='GP',zorder=2)\n",
    "\n",
    "plt.xlabel('Index')\n",
    "plt.ylabel('Basal Levels')\n",
    "plt.title('Comparison of Regressors')\n",
    "plt.ylim([-40,40])\n",
    "plt.grid(True)\n",
    "plt.legend()\n",
    "plt.show()"
   ]
  },
  {
   "cell_type": "markdown",
   "metadata": {},
   "source": [
    "\n",
    "# Choosing the Best Model\n",
    "In this final section, you will choose from the three supervised learning models the best model to use on the student data. You will then perform a grid search optimization for the model over the entire training set (X_train and y_train) by tuning at least one parameter to improve upon the untuned model's F1 score.\n",
    "\n",
    "## Question 3 - Choosing the Best Model\n",
    "Based on the experiments you performed earlier, in one to two paragraphs, explain to the board of supervisors what single model you chose as the best model. Which model is generally the most appropriate based on the available data, limited resources, cost, and performance?"
   ]
  },
  {
   "cell_type": "code",
   "execution_count": null,
   "metadata": {
    "collapsed": false
   },
   "outputs": [],
   "source": [
    "# Visualize data and regression curves\n",
    "plt.figure()\n",
    "plt.figure(figsize=(15,12))\n",
    "x_scat = range(n_readings)\n",
    "\n",
    "plt.plot(x_scat, diabetes_data['Basal Carbs (Liver)'], c='k', label='data', zorder=1)\n",
    "plt.axvline(x=288)\n",
    "plt.axvline(x=576)\n",
    "\n",
    "plt.xlabel('Index')\n",
    "plt.ylabel('Basal Levels')\n",
    "plt.axis([0, len(x_scat), -20, 30])\n",
    "plt.title('Data Points')\n",
    "plt.grid(True)\n",
    "plt.legend()"
   ]
  },
  {
   "cell_type": "markdown",
   "metadata": {},
   "source": [
    "## Question 4 - Model in Layman's Terms\n",
    "In one to two paragraphs, explain to the board of directors in layman's terms how the final model chosen is supposed to work. Be sure that you are describing the major qualities of the model, such as how the model is trained and how the model makes a prediction. Avoid using advanced mathematical or technical jargon, such as describing equations or discussing the algorithm implementation."
   ]
  },
  {
   "cell_type": "markdown",
   "metadata": {},
   "source": [
    "## Implementation: Model Tuning\n",
    "Fine tune the chosen model. Use grid search (GridSearchCV) with at least one important parameter tuned with at least 3 different values. You will need to use the entire training set for this. In the code cell below, you will need to implement the following:"
   ]
  },
  {
   "cell_type": "code",
   "execution_count": null,
   "metadata": {
    "collapsed": false
   },
   "outputs": [],
   "source": [
    "# Import 'GridSearchCV' and 'make_scorer'\n",
    "from sklearn.metrics import fbeta_score, make_scorer\n",
    "from sklearn.grid_search import GridSearchCV\n",
    "\n",
    "# Create the parameters list you wish to tune\n",
    "n_estimators_range = range(375,450,25) \n",
    "lr_range = [0.2, 0.5, 1.0, 1.5, 2.0]\n",
    "loss_range =  ['linear', 'square', 'exponential']\n",
    "param_grid = dict(n_estimators=n_estimators_range, learning_rate=lr_range, loss=loss_range)\n",
    "\n",
    "# TODO: Initialize the classifier\n",
    "clf = AdaBoostRegressor(DecisionTreeRegressor(max_depth=4),\n",
    "                          n_estimators=300, random_state=0)\n",
    "\n",
    "# TODO: Make an f1 scoring function using 'make_scorer' \n",
    "r2_scorer = make_scorer(r2_score)\n",
    "\n",
    "# TODO: Perform grid search on the classifier using the f1_scorer as the scoring method\n",
    "grid_obj = GridSearchCV(clf, param_grid=param_grid, scoring=r2_scorer)\n",
    "\n",
    "# TODO: Fit the grid search object to the training data and find the optimal parameters\n",
    "grid_obj = grid_obj.fit(X_train, y_train)\n",
    "\n",
    "# Get the estimator\n",
    "clf = grid_obj.best_estimator_\n",
    "\n",
    "# Report the final R2 score for training and testing after parameter tuning\n",
    "print \"Tuned model has a training R2 score of {:.4f}.\".format(predict_BG(clf, X_train, y_train))\n",
    "print \"Tuned model has a testing R2 score of {:.4f}.\".format(predict_BG(clf, X_test, y_test))"
   ]
  },
  {
   "cell_type": "markdown",
   "metadata": {},
   "source": [
    "## Question 5 - Final Scores\n",
    "What is the final model's F1 score for training and testing? How does that score compare to the untuned model?\n",
    "\n",
    "Answer: Tuned model has a testing F1 score of 0.8591. This is about 1% pecentage point higher than the default SVM. It is also 4.75% pecentage points higher than the AdaBoost.\n",
    "\n",
    "It is worth noting that I used the StratifiedShuffleSplit cross-validation generator. This was done because we are dealing with an unbalanced dataset. Our target row has 67% of students passing and 33% failing. Therefore the StratisfiedShuffleSplit was used because it creates splits by preserving the same percentage for each target class as in the complete set. - See ref: http://scikit-learn.org/stable/modules/cross_validation.html"
   ]
  },
  {
   "cell_type": "code",
   "execution_count": null,
   "metadata": {
    "collapsed": false
   },
   "outputs": [],
   "source": [
    "from basal import Basal \n",
    "from bolusTime import bolusTime\n",
    "from carbCurve import Carbs\n",
    "from carbCurveTime import CarbTIME\n",
    "\n",
    "L = n_readings         # Length of Dataset\n",
    "ISF = -37.7142857143   # Insulin Sensitivity Factor - How much one unit of insulin\n",
    "                       # decreases BG (negative because it decreases BG)\n",
    "C2R = 3.0              # How much 1 gram of Carbs raises BG level\n",
    "\n",
    "# 1 - Bolus\n",
    "basal, bolus = Basal(1,49) # creates curb for bolus ingestion\n",
    "Bolus = bolusTime(bolus, 0, 1, L)\n",
    "\n",
    "# 2 - CARBS\n",
    "carb = Carbs(0.4, 0.0, L) # carb is calculated for an entire length of L\n",
    "CarbsT = CarbTIME(carb, 3, 1)\n",
    "\n",
    "#<---------- \n",
    "# Analysis: Part 3 - Calculate BG \n",
    "#<----------\n",
    "\n",
    "CValue = 76.0  # Initialize a value for BG\n",
    "\n",
    "\n",
    "def create_BG(CValue, diabetes_data, L, bolus, carb):\n",
    "    # Create array for all the boluses that take place\n",
    "    TB = [] # Total boluses combined from ingestion\n",
    "    x = 0\n",
    "    for x in range(L):\n",
    "        TB.append(bolusTime(bolus, x, diabetes_data[\"Bolus Taken\"][x], L))\n",
    "        x += 1 \n",
    "    TB = np.array(TB)\n",
    "    TB = sum(TB)\n",
    "    \n",
    "    # Create array for all the Carbs that take place\n",
    "    TC = []\n",
    "    for x in range(L):\n",
    "        TC.append((CarbTIME(carb, x, diabetes_data[\"Carbs Eaten\"][x])))\n",
    "        x += 1\n",
    "    TC = np.array(TC)\n",
    "    TC = sum(TC)\n",
    "    \n",
    "    # Create array for BG - Target!\n",
    "    DFL = np.array(diabetes_data[\"Basal Carbs (Liver)\"])\n",
    "    DFB = np.array(diabetes_data[\"Basal Insulin\"])\n",
    "    DFB = DFB * -1       # Values decrease blood glucose\n",
    "    DFL = DFL * C2R\n",
    "    TC      = TC * C2R\n",
    "    TB      = TB * ISF\n",
    "    \n",
    "    BG = [0.0]*L\n",
    "    BG.insert(0,CValue)\n",
    "    \n",
    "    for x in range(1, L):\n",
    "        BG[x] = BG[x-1] + DFL[x] + DFB[x] + TC[x] + TB[x]\n",
    "        \n",
    "    del BG[-1]\n",
    "    \n",
    "    return BG\n",
    "\n",
    "#BG = create_BG(CValue, diabetes_data, L, bolus, carb)\n",
    "#diabetes_data['BG'] = BG\n",
    "#print BG"
   ]
  },
  {
   "cell_type": "code",
   "execution_count": null,
   "metadata": {
    "collapsed": true
   },
   "outputs": [],
   "source": []
  },
  {
   "cell_type": "code",
   "execution_count": null,
   "metadata": {
    "collapsed": true
   },
   "outputs": [],
   "source": []
  }
 ],
 "metadata": {
  "anaconda-cloud": {},
  "kernelspec": {
   "display_name": "Python [Root]",
   "language": "python",
   "name": "Python [Root]"
  },
  "language_info": {
   "codemirror_mode": {
    "name": "ipython",
    "version": 2
   },
   "file_extension": ".py",
   "mimetype": "text/x-python",
   "name": "python",
   "nbconvert_exporter": "python",
   "pygments_lexer": "ipython2",
   "version": "2.7.12"
  }
 },
 "nbformat": 4,
 "nbformat_minor": 0
}
